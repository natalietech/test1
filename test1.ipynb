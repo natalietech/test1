{
 "metadata": {
  "name": "test1S"
 },
 "nbformat": 3,
 "nbformat_minor": 0,
 "worksheets": [
  {
   "cells": [
    {
     "cell_type": "code",
     "collapsed": false,
     "input": "print 'Hello, Intel!'",
     "language": "python",
     "metadata": {},
     "outputs": []
    },
    {
     "cell_type": "code",
     "collapsed": false,
     "input": "hist(np.random.randn(10000), bins=30);",
     "language": "python",
     "metadata": {},
     "outputs": []
    },
   ],
   "metadata": {}
  }
 ]
}
